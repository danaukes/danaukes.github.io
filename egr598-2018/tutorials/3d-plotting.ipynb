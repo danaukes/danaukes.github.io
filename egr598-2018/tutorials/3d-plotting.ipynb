{
 "cells": [
  {
   "cell_type": "code",
   "execution_count": null,
   "metadata": {
    "collapsed": true
   },
   "outputs": [],
   "source": [
    "%matplotlib inline"
   ]
  },
  {
   "cell_type": "markdown",
   "metadata": {},
   "source": [
    "# Plotting in 3D\n",
    "* Visit this [matplotlib tutorial](http://matplotlib.org/mpl_toolkits/mplot3d/tutorial.html) on 3d Plotting\n",
    "* Another useful [reference](https://jakevdp.github.io/PythonDataScienceHandbook/04.12-three-dimensional-plotting.html)\n"
   ]
  },
  {
   "cell_type": "code",
   "execution_count": null,
   "metadata": {
    "collapsed": true
   },
   "outputs": [],
   "source": [
    "import matplotlib.pyplot as plt\n",
    "import numpy\n",
    "from math import pi\n",
    "from mpl_toolkits.mplot3d import Axes3D\n",
    "import idealab_tools.matplotlib_tools"
   ]
  },
  {
   "cell_type": "code",
   "execution_count": null,
   "metadata": {},
   "outputs": [],
   "source": [
    "theta = numpy.r_[0:2*pi:40j]\n",
    "\n",
    "x = numpy.cos(theta)\n",
    "y = .5*numpy.sin(theta)\n",
    "z = numpy.sin(2*theta-pi/4)\n",
    "\n",
    "xyz = numpy.array([x,y,z]).T"
   ]
  },
  {
   "cell_type": "code",
   "execution_count": null,
   "metadata": {},
   "outputs": [],
   "source": [
    "fig = plt.figure();\n",
    "ax = fig.add_subplot(111, projection='3d');\n",
    "ax.view_init(30, 15)\n",
    "ax.plot3D(xyz[:,0],xyz[:,1],xyz[:,2])\n",
    "idealab_tools.matplotlib_tools.equal_axes(ax,xyz)"
   ]
  },
  {
   "cell_type": "code",
   "execution_count": null,
   "metadata": {
    "collapsed": true
   },
   "outputs": [],
   "source": []
  }
 ],
 "metadata": {
  "kernelspec": {
   "display_name": "Python 3",
   "language": "python",
   "name": "python3"
  },
  "language_info": {
   "codemirror_mode": {
    "name": "ipython",
    "version": 3
   },
   "file_extension": ".py",
   "mimetype": "text/x-python",
   "name": "python",
   "nbconvert_exporter": "python",
   "pygments_lexer": "ipython3",
   "version": "3.6.3"
  }
 },
 "nbformat": 4,
 "nbformat_minor": 1
}
